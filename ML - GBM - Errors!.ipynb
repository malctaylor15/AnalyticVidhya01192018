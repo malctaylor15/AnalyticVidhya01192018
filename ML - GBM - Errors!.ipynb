{
 "cells": [
  {
   "cell_type": "code",
   "execution_count": 1,
   "metadata": {
    "collapsed": true
   },
   "outputs": [],
   "source": [
    "import numpy as np \n",
    "import pandas as pd "
   ]
  },
  {
   "cell_type": "code",
   "execution_count": 2,
   "metadata": {
    "collapsed": false
   },
   "outputs": [],
   "source": [
    "pd.options.display.max_columns = 40"
   ]
  },
  {
   "cell_type": "code",
   "execution_count": 3,
   "metadata": {
    "collapsed": true
   },
   "outputs": [],
   "source": [
    "modeling_train = pd.read_csv(\"Train_Modeling_Dataset.csv\")"
   ]
  },
  {
   "cell_type": "code",
   "execution_count": 4,
   "metadata": {
    "collapsed": false
   },
   "outputs": [
    {
     "data": {
      "text/plain": [
       "(69713, 112)"
      ]
     },
     "execution_count": 4,
     "metadata": {},
     "output_type": "execute_result"
    }
   ],
   "source": [
    "modeling_train.shape"
   ]
  },
  {
   "cell_type": "code",
   "execution_count": 5,
   "metadata": {
    "collapsed": false
   },
   "outputs": [
    {
     "data": {
      "text/html": [
       "<div>\n",
       "<table border=\"1\" class=\"dataframe\">\n",
       "  <thead>\n",
       "    <tr style=\"text-align: right;\">\n",
       "      <th></th>\n",
       "      <th>ID</th>\n",
       "      <th>Employer_Category2</th>\n",
       "      <th>Monthly_Income</th>\n",
       "      <th>Existing_EMI</th>\n",
       "      <th>Loan_Amount</th>\n",
       "      <th>Loan_Period</th>\n",
       "      <th>Interest_Rate</th>\n",
       "      <th>EMI</th>\n",
       "      <th>Var1</th>\n",
       "      <th>Approved</th>\n",
       "      <th>DOB_year</th>\n",
       "      <th>age_DOB</th>\n",
       "      <th>Days_since_lead_creation</th>\n",
       "      <th>Primary_Bank_Type_G</th>\n",
       "      <th>Primary_Bank_Type_P</th>\n",
       "      <th>Contacted_N</th>\n",
       "      <th>Contacted_Y</th>\n",
       "      <th>Source_Category_A</th>\n",
       "      <th>Source_Category_B</th>\n",
       "      <th>Source_Category_C</th>\n",
       "      <th>...</th>\n",
       "      <th>Source_S138</th>\n",
       "      <th>Source_S139</th>\n",
       "      <th>Source_S141</th>\n",
       "      <th>Source_S143</th>\n",
       "      <th>Source_S144</th>\n",
       "      <th>Source_S150</th>\n",
       "      <th>Source_S151</th>\n",
       "      <th>Source_S153</th>\n",
       "      <th>Source_S155</th>\n",
       "      <th>Source_S156</th>\n",
       "      <th>Source_S157</th>\n",
       "      <th>Source_S158</th>\n",
       "      <th>Source_S159</th>\n",
       "      <th>Source_S161</th>\n",
       "      <th>Source_S162</th>\n",
       "      <th>Employer_Category1_A</th>\n",
       "      <th>Employer_Category1_B</th>\n",
       "      <th>Employer_Category1_C</th>\n",
       "      <th>Gender_Female</th>\n",
       "      <th>Gender_Male</th>\n",
       "    </tr>\n",
       "  </thead>\n",
       "  <tbody>\n",
       "    <tr>\n",
       "      <th>0</th>\n",
       "      <td>APPC90493171225</td>\n",
       "      <td>4.0</td>\n",
       "      <td>2000.0</td>\n",
       "      <td>0.0</td>\n",
       "      <td>NaN</td>\n",
       "      <td>NaN</td>\n",
       "      <td>NaN</td>\n",
       "      <td>NaN</td>\n",
       "      <td>0</td>\n",
       "      <td>0</td>\n",
       "      <td>1979.0</td>\n",
       "      <td>39.0</td>\n",
       "      <td>188</td>\n",
       "      <td>0</td>\n",
       "      <td>1</td>\n",
       "      <td>1</td>\n",
       "      <td>0</td>\n",
       "      <td>0</td>\n",
       "      <td>0</td>\n",
       "      <td>0</td>\n",
       "      <td>...</td>\n",
       "      <td>0</td>\n",
       "      <td>0</td>\n",
       "      <td>0</td>\n",
       "      <td>0</td>\n",
       "      <td>0</td>\n",
       "      <td>0</td>\n",
       "      <td>0</td>\n",
       "      <td>0</td>\n",
       "      <td>0</td>\n",
       "      <td>0</td>\n",
       "      <td>0</td>\n",
       "      <td>0</td>\n",
       "      <td>0</td>\n",
       "      <td>0</td>\n",
       "      <td>0</td>\n",
       "      <td>1</td>\n",
       "      <td>0</td>\n",
       "      <td>0</td>\n",
       "      <td>1</td>\n",
       "      <td>0</td>\n",
       "    </tr>\n",
       "    <tr>\n",
       "      <th>1</th>\n",
       "      <td>APPD40611263344</td>\n",
       "      <td>1.0</td>\n",
       "      <td>3500.0</td>\n",
       "      <td>0.0</td>\n",
       "      <td>20000.0</td>\n",
       "      <td>2.0</td>\n",
       "      <td>13.25</td>\n",
       "      <td>953.0</td>\n",
       "      <td>10</td>\n",
       "      <td>0</td>\n",
       "      <td>1986.0</td>\n",
       "      <td>32.0</td>\n",
       "      <td>287</td>\n",
       "      <td>0</td>\n",
       "      <td>1</td>\n",
       "      <td>0</td>\n",
       "      <td>1</td>\n",
       "      <td>0</td>\n",
       "      <td>0</td>\n",
       "      <td>0</td>\n",
       "      <td>...</td>\n",
       "      <td>0</td>\n",
       "      <td>0</td>\n",
       "      <td>0</td>\n",
       "      <td>0</td>\n",
       "      <td>0</td>\n",
       "      <td>0</td>\n",
       "      <td>0</td>\n",
       "      <td>0</td>\n",
       "      <td>0</td>\n",
       "      <td>0</td>\n",
       "      <td>0</td>\n",
       "      <td>0</td>\n",
       "      <td>0</td>\n",
       "      <td>0</td>\n",
       "      <td>0</td>\n",
       "      <td>0</td>\n",
       "      <td>0</td>\n",
       "      <td>1</td>\n",
       "      <td>0</td>\n",
       "      <td>1</td>\n",
       "    </tr>\n",
       "    <tr>\n",
       "      <th>2</th>\n",
       "      <td>APPE70289249423</td>\n",
       "      <td>4.0</td>\n",
       "      <td>2250.0</td>\n",
       "      <td>0.0</td>\n",
       "      <td>45000.0</td>\n",
       "      <td>4.0</td>\n",
       "      <td>NaN</td>\n",
       "      <td>NaN</td>\n",
       "      <td>0</td>\n",
       "      <td>0</td>\n",
       "      <td>1982.0</td>\n",
       "      <td>36.0</td>\n",
       "      <td>184</td>\n",
       "      <td>1</td>\n",
       "      <td>0</td>\n",
       "      <td>0</td>\n",
       "      <td>1</td>\n",
       "      <td>0</td>\n",
       "      <td>1</td>\n",
       "      <td>0</td>\n",
       "      <td>...</td>\n",
       "      <td>0</td>\n",
       "      <td>0</td>\n",
       "      <td>0</td>\n",
       "      <td>1</td>\n",
       "      <td>0</td>\n",
       "      <td>0</td>\n",
       "      <td>0</td>\n",
       "      <td>0</td>\n",
       "      <td>0</td>\n",
       "      <td>0</td>\n",
       "      <td>0</td>\n",
       "      <td>0</td>\n",
       "      <td>0</td>\n",
       "      <td>0</td>\n",
       "      <td>0</td>\n",
       "      <td>0</td>\n",
       "      <td>0</td>\n",
       "      <td>1</td>\n",
       "      <td>0</td>\n",
       "      <td>1</td>\n",
       "    </tr>\n",
       "    <tr>\n",
       "      <th>3</th>\n",
       "      <td>APPF80273865537</td>\n",
       "      <td>4.0</td>\n",
       "      <td>3500.0</td>\n",
       "      <td>0.0</td>\n",
       "      <td>92000.0</td>\n",
       "      <td>5.0</td>\n",
       "      <td>NaN</td>\n",
       "      <td>NaN</td>\n",
       "      <td>7</td>\n",
       "      <td>0</td>\n",
       "      <td>1989.0</td>\n",
       "      <td>29.0</td>\n",
       "      <td>134</td>\n",
       "      <td>1</td>\n",
       "      <td>0</td>\n",
       "      <td>0</td>\n",
       "      <td>1</td>\n",
       "      <td>0</td>\n",
       "      <td>1</td>\n",
       "      <td>0</td>\n",
       "      <td>...</td>\n",
       "      <td>0</td>\n",
       "      <td>0</td>\n",
       "      <td>0</td>\n",
       "      <td>1</td>\n",
       "      <td>0</td>\n",
       "      <td>0</td>\n",
       "      <td>0</td>\n",
       "      <td>0</td>\n",
       "      <td>0</td>\n",
       "      <td>0</td>\n",
       "      <td>0</td>\n",
       "      <td>0</td>\n",
       "      <td>0</td>\n",
       "      <td>0</td>\n",
       "      <td>0</td>\n",
       "      <td>1</td>\n",
       "      <td>0</td>\n",
       "      <td>0</td>\n",
       "      <td>0</td>\n",
       "      <td>1</td>\n",
       "    </tr>\n",
       "    <tr>\n",
       "      <th>4</th>\n",
       "      <td>APPG60994436641</td>\n",
       "      <td>4.0</td>\n",
       "      <td>10000.0</td>\n",
       "      <td>2500.0</td>\n",
       "      <td>50000.0</td>\n",
       "      <td>2.0</td>\n",
       "      <td>NaN</td>\n",
       "      <td>NaN</td>\n",
       "      <td>10</td>\n",
       "      <td>0</td>\n",
       "      <td>1985.0</td>\n",
       "      <td>33.0</td>\n",
       "      <td>183</td>\n",
       "      <td>0</td>\n",
       "      <td>1</td>\n",
       "      <td>0</td>\n",
       "      <td>1</td>\n",
       "      <td>0</td>\n",
       "      <td>1</td>\n",
       "      <td>0</td>\n",
       "      <td>...</td>\n",
       "      <td>0</td>\n",
       "      <td>0</td>\n",
       "      <td>0</td>\n",
       "      <td>0</td>\n",
       "      <td>0</td>\n",
       "      <td>0</td>\n",
       "      <td>0</td>\n",
       "      <td>0</td>\n",
       "      <td>0</td>\n",
       "      <td>0</td>\n",
       "      <td>0</td>\n",
       "      <td>0</td>\n",
       "      <td>0</td>\n",
       "      <td>0</td>\n",
       "      <td>0</td>\n",
       "      <td>1</td>\n",
       "      <td>0</td>\n",
       "      <td>0</td>\n",
       "      <td>0</td>\n",
       "      <td>1</td>\n",
       "    </tr>\n",
       "  </tbody>\n",
       "</table>\n",
       "<p>5 rows × 112 columns</p>\n",
       "</div>"
      ],
      "text/plain": [
       "                ID  Employer_Category2  Monthly_Income  Existing_EMI  \\\n",
       "0  APPC90493171225                 4.0          2000.0           0.0   \n",
       "1  APPD40611263344                 1.0          3500.0           0.0   \n",
       "2  APPE70289249423                 4.0          2250.0           0.0   \n",
       "3  APPF80273865537                 4.0          3500.0           0.0   \n",
       "4  APPG60994436641                 4.0         10000.0        2500.0   \n",
       "\n",
       "   Loan_Amount  Loan_Period  Interest_Rate    EMI  Var1  Approved  DOB_year  \\\n",
       "0          NaN          NaN            NaN    NaN     0         0    1979.0   \n",
       "1      20000.0          2.0          13.25  953.0    10         0    1986.0   \n",
       "2      45000.0          4.0            NaN    NaN     0         0    1982.0   \n",
       "3      92000.0          5.0            NaN    NaN     7         0    1989.0   \n",
       "4      50000.0          2.0            NaN    NaN    10         0    1985.0   \n",
       "\n",
       "   age_DOB  Days_since_lead_creation  Primary_Bank_Type_G  \\\n",
       "0     39.0                       188                    0   \n",
       "1     32.0                       287                    0   \n",
       "2     36.0                       184                    1   \n",
       "3     29.0                       134                    1   \n",
       "4     33.0                       183                    0   \n",
       "\n",
       "   Primary_Bank_Type_P  Contacted_N  Contacted_Y  Source_Category_A  \\\n",
       "0                    1            1            0                  0   \n",
       "1                    1            0            1                  0   \n",
       "2                    0            0            1                  0   \n",
       "3                    0            0            1                  0   \n",
       "4                    1            0            1                  0   \n",
       "\n",
       "   Source_Category_B  Source_Category_C     ...       Source_S138  \\\n",
       "0                  0                  0     ...                 0   \n",
       "1                  0                  0     ...                 0   \n",
       "2                  1                  0     ...                 0   \n",
       "3                  1                  0     ...                 0   \n",
       "4                  1                  0     ...                 0   \n",
       "\n",
       "   Source_S139  Source_S141  Source_S143  Source_S144  Source_S150  \\\n",
       "0            0            0            0            0            0   \n",
       "1            0            0            0            0            0   \n",
       "2            0            0            1            0            0   \n",
       "3            0            0            1            0            0   \n",
       "4            0            0            0            0            0   \n",
       "\n",
       "   Source_S151  Source_S153  Source_S155  Source_S156  Source_S157  \\\n",
       "0            0            0            0            0            0   \n",
       "1            0            0            0            0            0   \n",
       "2            0            0            0            0            0   \n",
       "3            0            0            0            0            0   \n",
       "4            0            0            0            0            0   \n",
       "\n",
       "   Source_S158  Source_S159  Source_S161  Source_S162  Employer_Category1_A  \\\n",
       "0            0            0            0            0                     1   \n",
       "1            0            0            0            0                     0   \n",
       "2            0            0            0            0                     0   \n",
       "3            0            0            0            0                     1   \n",
       "4            0            0            0            0                     1   \n",
       "\n",
       "   Employer_Category1_B  Employer_Category1_C  Gender_Female  Gender_Male  \n",
       "0                     0                     0              1            0  \n",
       "1                     0                     1              0            1  \n",
       "2                     0                     1              0            1  \n",
       "3                     0                     0              0            1  \n",
       "4                     0                     0              0            1  \n",
       "\n",
       "[5 rows x 112 columns]"
      ]
     },
     "execution_count": 5,
     "metadata": {},
     "output_type": "execute_result"
    }
   ],
   "source": [
    "modeling_train.head()"
   ]
  },
  {
   "cell_type": "code",
   "execution_count": 6,
   "metadata": {
    "collapsed": false
   },
   "outputs": [
    {
     "data": {
      "text/plain": [
       "True"
      ]
     },
     "execution_count": 6,
     "metadata": {},
     "output_type": "execute_result"
    }
   ],
   "source": [
    "\"Approved\" in modeling_train.columns"
   ]
  },
  {
   "cell_type": "code",
   "execution_count": 7,
   "metadata": {
    "collapsed": false
   },
   "outputs": [
    {
     "data": {
      "text/html": [
       "<div>\n",
       "<table border=\"1\" class=\"dataframe\">\n",
       "  <thead>\n",
       "    <tr style=\"text-align: right;\">\n",
       "      <th></th>\n",
       "      <th>Employer_Category2</th>\n",
       "      <th>Monthly_Income</th>\n",
       "      <th>Existing_EMI</th>\n",
       "      <th>Loan_Amount</th>\n",
       "      <th>Loan_Period</th>\n",
       "      <th>Interest_Rate</th>\n",
       "      <th>EMI</th>\n",
       "      <th>Var1</th>\n",
       "      <th>Approved</th>\n",
       "      <th>DOB_year</th>\n",
       "      <th>age_DOB</th>\n",
       "      <th>Days_since_lead_creation</th>\n",
       "      <th>Primary_Bank_Type_G</th>\n",
       "      <th>Primary_Bank_Type_P</th>\n",
       "      <th>Contacted_N</th>\n",
       "      <th>Contacted_Y</th>\n",
       "      <th>Source_Category_A</th>\n",
       "      <th>Source_Category_B</th>\n",
       "      <th>Source_Category_C</th>\n",
       "      <th>Source_Category_D</th>\n",
       "      <th>...</th>\n",
       "      <th>Source_S138</th>\n",
       "      <th>Source_S139</th>\n",
       "      <th>Source_S141</th>\n",
       "      <th>Source_S143</th>\n",
       "      <th>Source_S144</th>\n",
       "      <th>Source_S150</th>\n",
       "      <th>Source_S151</th>\n",
       "      <th>Source_S153</th>\n",
       "      <th>Source_S155</th>\n",
       "      <th>Source_S156</th>\n",
       "      <th>Source_S157</th>\n",
       "      <th>Source_S158</th>\n",
       "      <th>Source_S159</th>\n",
       "      <th>Source_S161</th>\n",
       "      <th>Source_S162</th>\n",
       "      <th>Employer_Category1_A</th>\n",
       "      <th>Employer_Category1_B</th>\n",
       "      <th>Employer_Category1_C</th>\n",
       "      <th>Gender_Female</th>\n",
       "      <th>Gender_Male</th>\n",
       "    </tr>\n",
       "  </thead>\n",
       "  <tbody>\n",
       "    <tr>\n",
       "      <th>count</th>\n",
       "      <td>65415.000000</td>\n",
       "      <td>6.971300e+04</td>\n",
       "      <td>69662.000000</td>\n",
       "      <td>42004.000000</td>\n",
       "      <td>42004.000000</td>\n",
       "      <td>22276.000000</td>\n",
       "      <td>22276.000000</td>\n",
       "      <td>69713.000000</td>\n",
       "      <td>69713.000000</td>\n",
       "      <td>69698.000000</td>\n",
       "      <td>69698.000000</td>\n",
       "      <td>69713.000000</td>\n",
       "      <td>69713.000000</td>\n",
       "      <td>69713.000000</td>\n",
       "      <td>69713.000000</td>\n",
       "      <td>69713.000000</td>\n",
       "      <td>69713.000000</td>\n",
       "      <td>69713.000000</td>\n",
       "      <td>69713.000000</td>\n",
       "      <td>69713.000000</td>\n",
       "      <td>...</td>\n",
       "      <td>69713.000000</td>\n",
       "      <td>69713.000000</td>\n",
       "      <td>69713.000000</td>\n",
       "      <td>69713.000000</td>\n",
       "      <td>69713.000000</td>\n",
       "      <td>69713.00000</td>\n",
       "      <td>69713.000000</td>\n",
       "      <td>69713.000000</td>\n",
       "      <td>69713.000000</td>\n",
       "      <td>69713.000000</td>\n",
       "      <td>69713.000000</td>\n",
       "      <td>69713.000000</td>\n",
       "      <td>69713.000000</td>\n",
       "      <td>69713.000000</td>\n",
       "      <td>69713.000000</td>\n",
       "      <td>69713.000000</td>\n",
       "      <td>69713.000000</td>\n",
       "      <td>69713.000000</td>\n",
       "      <td>69713.000000</td>\n",
       "      <td>69713.000000</td>\n",
       "    </tr>\n",
       "    <tr>\n",
       "      <th>mean</th>\n",
       "      <td>3.720187</td>\n",
       "      <td>5.622283e+03</td>\n",
       "      <td>360.928751</td>\n",
       "      <td>39429.982859</td>\n",
       "      <td>3.890629</td>\n",
       "      <td>19.213570</td>\n",
       "      <td>1101.466242</td>\n",
       "      <td>3.948446</td>\n",
       "      <td>0.014631</td>\n",
       "      <td>1988.614609</td>\n",
       "      <td>29.385391</td>\n",
       "      <td>174.253970</td>\n",
       "      <td>0.296975</td>\n",
       "      <td>0.568316</td>\n",
       "      <td>0.350552</td>\n",
       "      <td>0.649448</td>\n",
       "      <td>0.000043</td>\n",
       "      <td>0.427639</td>\n",
       "      <td>0.163155</td>\n",
       "      <td>0.007129</td>\n",
       "      <td>...</td>\n",
       "      <td>0.000029</td>\n",
       "      <td>0.000029</td>\n",
       "      <td>0.000660</td>\n",
       "      <td>0.049919</td>\n",
       "      <td>0.003486</td>\n",
       "      <td>0.00010</td>\n",
       "      <td>0.008162</td>\n",
       "      <td>0.005781</td>\n",
       "      <td>0.000043</td>\n",
       "      <td>0.003586</td>\n",
       "      <td>0.007273</td>\n",
       "      <td>0.002396</td>\n",
       "      <td>0.064177</td>\n",
       "      <td>0.008908</td>\n",
       "      <td>0.000445</td>\n",
       "      <td>0.478189</td>\n",
       "      <td>0.259005</td>\n",
       "      <td>0.205170</td>\n",
       "      <td>0.426950</td>\n",
       "      <td>0.573050</td>\n",
       "    </tr>\n",
       "    <tr>\n",
       "      <th>std</th>\n",
       "      <td>0.807374</td>\n",
       "      <td>1.747671e+05</td>\n",
       "      <td>2288.517927</td>\n",
       "      <td>30727.595990</td>\n",
       "      <td>1.167491</td>\n",
       "      <td>5.847136</td>\n",
       "      <td>752.661394</td>\n",
       "      <td>3.819214</td>\n",
       "      <td>0.120073</td>\n",
       "      <td>14.873144</td>\n",
       "      <td>14.873144</td>\n",
       "      <td>75.625156</td>\n",
       "      <td>0.456929</td>\n",
       "      <td>0.495315</td>\n",
       "      <td>0.477146</td>\n",
       "      <td>0.477146</td>\n",
       "      <td>0.006560</td>\n",
       "      <td>0.494740</td>\n",
       "      <td>0.369509</td>\n",
       "      <td>0.084134</td>\n",
       "      <td>...</td>\n",
       "      <td>0.005356</td>\n",
       "      <td>0.005356</td>\n",
       "      <td>0.025679</td>\n",
       "      <td>0.217779</td>\n",
       "      <td>0.058937</td>\n",
       "      <td>0.01002</td>\n",
       "      <td>0.089975</td>\n",
       "      <td>0.075812</td>\n",
       "      <td>0.006560</td>\n",
       "      <td>0.059777</td>\n",
       "      <td>0.084970</td>\n",
       "      <td>0.048886</td>\n",
       "      <td>0.245070</td>\n",
       "      <td>0.093961</td>\n",
       "      <td>0.021083</td>\n",
       "      <td>0.499528</td>\n",
       "      <td>0.438091</td>\n",
       "      <td>0.403829</td>\n",
       "      <td>0.494639</td>\n",
       "      <td>0.494639</td>\n",
       "    </tr>\n",
       "    <tr>\n",
       "      <th>min</th>\n",
       "      <td>1.000000</td>\n",
       "      <td>0.000000e+00</td>\n",
       "      <td>0.000000</td>\n",
       "      <td>5000.000000</td>\n",
       "      <td>1.000000</td>\n",
       "      <td>11.990000</td>\n",
       "      <td>118.000000</td>\n",
       "      <td>0.000000</td>\n",
       "      <td>0.000000</td>\n",
       "      <td>1968.000000</td>\n",
       "      <td>-49.000000</td>\n",
       "      <td>41.000000</td>\n",
       "      <td>0.000000</td>\n",
       "      <td>0.000000</td>\n",
       "      <td>0.000000</td>\n",
       "      <td>0.000000</td>\n",
       "      <td>0.000000</td>\n",
       "      <td>0.000000</td>\n",
       "      <td>0.000000</td>\n",
       "      <td>0.000000</td>\n",
       "      <td>...</td>\n",
       "      <td>0.000000</td>\n",
       "      <td>0.000000</td>\n",
       "      <td>0.000000</td>\n",
       "      <td>0.000000</td>\n",
       "      <td>0.000000</td>\n",
       "      <td>0.00000</td>\n",
       "      <td>0.000000</td>\n",
       "      <td>0.000000</td>\n",
       "      <td>0.000000</td>\n",
       "      <td>0.000000</td>\n",
       "      <td>0.000000</td>\n",
       "      <td>0.000000</td>\n",
       "      <td>0.000000</td>\n",
       "      <td>0.000000</td>\n",
       "      <td>0.000000</td>\n",
       "      <td>0.000000</td>\n",
       "      <td>0.000000</td>\n",
       "      <td>0.000000</td>\n",
       "      <td>0.000000</td>\n",
       "      <td>0.000000</td>\n",
       "    </tr>\n",
       "    <tr>\n",
       "      <th>25%</th>\n",
       "      <td>4.000000</td>\n",
       "      <td>1.650000e+03</td>\n",
       "      <td>0.000000</td>\n",
       "      <td>20000.000000</td>\n",
       "      <td>3.000000</td>\n",
       "      <td>15.250000</td>\n",
       "      <td>649.000000</td>\n",
       "      <td>0.000000</td>\n",
       "      <td>0.000000</td>\n",
       "      <td>1983.000000</td>\n",
       "      <td>28.000000</td>\n",
       "      <td>123.000000</td>\n",
       "      <td>0.000000</td>\n",
       "      <td>0.000000</td>\n",
       "      <td>0.000000</td>\n",
       "      <td>0.000000</td>\n",
       "      <td>0.000000</td>\n",
       "      <td>0.000000</td>\n",
       "      <td>0.000000</td>\n",
       "      <td>0.000000</td>\n",
       "      <td>...</td>\n",
       "      <td>0.000000</td>\n",
       "      <td>0.000000</td>\n",
       "      <td>0.000000</td>\n",
       "      <td>0.000000</td>\n",
       "      <td>0.000000</td>\n",
       "      <td>0.00000</td>\n",
       "      <td>0.000000</td>\n",
       "      <td>0.000000</td>\n",
       "      <td>0.000000</td>\n",
       "      <td>0.000000</td>\n",
       "      <td>0.000000</td>\n",
       "      <td>0.000000</td>\n",
       "      <td>0.000000</td>\n",
       "      <td>0.000000</td>\n",
       "      <td>0.000000</td>\n",
       "      <td>0.000000</td>\n",
       "      <td>0.000000</td>\n",
       "      <td>0.000000</td>\n",
       "      <td>0.000000</td>\n",
       "      <td>0.000000</td>\n",
       "    </tr>\n",
       "    <tr>\n",
       "      <th>50%</th>\n",
       "      <td>4.000000</td>\n",
       "      <td>2.500000e+03</td>\n",
       "      <td>0.000000</td>\n",
       "      <td>30000.000000</td>\n",
       "      <td>4.000000</td>\n",
       "      <td>18.000000</td>\n",
       "      <td>941.000000</td>\n",
       "      <td>2.000000</td>\n",
       "      <td>0.000000</td>\n",
       "      <td>1987.000000</td>\n",
       "      <td>31.000000</td>\n",
       "      <td>155.000000</td>\n",
       "      <td>0.000000</td>\n",
       "      <td>1.000000</td>\n",
       "      <td>0.000000</td>\n",
       "      <td>1.000000</td>\n",
       "      <td>0.000000</td>\n",
       "      <td>0.000000</td>\n",
       "      <td>0.000000</td>\n",
       "      <td>0.000000</td>\n",
       "      <td>...</td>\n",
       "      <td>0.000000</td>\n",
       "      <td>0.000000</td>\n",
       "      <td>0.000000</td>\n",
       "      <td>0.000000</td>\n",
       "      <td>0.000000</td>\n",
       "      <td>0.00000</td>\n",
       "      <td>0.000000</td>\n",
       "      <td>0.000000</td>\n",
       "      <td>0.000000</td>\n",
       "      <td>0.000000</td>\n",
       "      <td>0.000000</td>\n",
       "      <td>0.000000</td>\n",
       "      <td>0.000000</td>\n",
       "      <td>0.000000</td>\n",
       "      <td>0.000000</td>\n",
       "      <td>0.000000</td>\n",
       "      <td>0.000000</td>\n",
       "      <td>0.000000</td>\n",
       "      <td>0.000000</td>\n",
       "      <td>1.000000</td>\n",
       "    </tr>\n",
       "    <tr>\n",
       "      <th>75%</th>\n",
       "      <td>4.000000</td>\n",
       "      <td>4.000000e+03</td>\n",
       "      <td>350.000000</td>\n",
       "      <td>50000.000000</td>\n",
       "      <td>5.000000</td>\n",
       "      <td>20.000000</td>\n",
       "      <td>1295.000000</td>\n",
       "      <td>7.000000</td>\n",
       "      <td>0.000000</td>\n",
       "      <td>1990.000000</td>\n",
       "      <td>35.000000</td>\n",
       "      <td>189.000000</td>\n",
       "      <td>1.000000</td>\n",
       "      <td>1.000000</td>\n",
       "      <td>1.000000</td>\n",
       "      <td>1.000000</td>\n",
       "      <td>0.000000</td>\n",
       "      <td>1.000000</td>\n",
       "      <td>0.000000</td>\n",
       "      <td>0.000000</td>\n",
       "      <td>...</td>\n",
       "      <td>0.000000</td>\n",
       "      <td>0.000000</td>\n",
       "      <td>0.000000</td>\n",
       "      <td>0.000000</td>\n",
       "      <td>0.000000</td>\n",
       "      <td>0.00000</td>\n",
       "      <td>0.000000</td>\n",
       "      <td>0.000000</td>\n",
       "      <td>0.000000</td>\n",
       "      <td>0.000000</td>\n",
       "      <td>0.000000</td>\n",
       "      <td>0.000000</td>\n",
       "      <td>0.000000</td>\n",
       "      <td>0.000000</td>\n",
       "      <td>0.000000</td>\n",
       "      <td>1.000000</td>\n",
       "      <td>1.000000</td>\n",
       "      <td>0.000000</td>\n",
       "      <td>1.000000</td>\n",
       "      <td>1.000000</td>\n",
       "    </tr>\n",
       "    <tr>\n",
       "      <th>max</th>\n",
       "      <td>4.000000</td>\n",
       "      <td>3.838384e+07</td>\n",
       "      <td>545436.500000</td>\n",
       "      <td>300000.000000</td>\n",
       "      <td>6.000000</td>\n",
       "      <td>37.000000</td>\n",
       "      <td>13556.000000</td>\n",
       "      <td>10.000000</td>\n",
       "      <td>1.000000</td>\n",
       "      <td>2067.000000</td>\n",
       "      <td>50.000000</td>\n",
       "      <td>378.000000</td>\n",
       "      <td>1.000000</td>\n",
       "      <td>1.000000</td>\n",
       "      <td>1.000000</td>\n",
       "      <td>1.000000</td>\n",
       "      <td>1.000000</td>\n",
       "      <td>1.000000</td>\n",
       "      <td>1.000000</td>\n",
       "      <td>1.000000</td>\n",
       "      <td>...</td>\n",
       "      <td>1.000000</td>\n",
       "      <td>1.000000</td>\n",
       "      <td>1.000000</td>\n",
       "      <td>1.000000</td>\n",
       "      <td>1.000000</td>\n",
       "      <td>1.00000</td>\n",
       "      <td>1.000000</td>\n",
       "      <td>1.000000</td>\n",
       "      <td>1.000000</td>\n",
       "      <td>1.000000</td>\n",
       "      <td>1.000000</td>\n",
       "      <td>1.000000</td>\n",
       "      <td>1.000000</td>\n",
       "      <td>1.000000</td>\n",
       "      <td>1.000000</td>\n",
       "      <td>1.000000</td>\n",
       "      <td>1.000000</td>\n",
       "      <td>1.000000</td>\n",
       "      <td>1.000000</td>\n",
       "      <td>1.000000</td>\n",
       "    </tr>\n",
       "  </tbody>\n",
       "</table>\n",
       "<p>8 rows × 111 columns</p>\n",
       "</div>"
      ],
      "text/plain": [
       "       Employer_Category2  Monthly_Income   Existing_EMI    Loan_Amount  \\\n",
       "count        65415.000000    6.971300e+04   69662.000000   42004.000000   \n",
       "mean             3.720187    5.622283e+03     360.928751   39429.982859   \n",
       "std              0.807374    1.747671e+05    2288.517927   30727.595990   \n",
       "min              1.000000    0.000000e+00       0.000000    5000.000000   \n",
       "25%              4.000000    1.650000e+03       0.000000   20000.000000   \n",
       "50%              4.000000    2.500000e+03       0.000000   30000.000000   \n",
       "75%              4.000000    4.000000e+03     350.000000   50000.000000   \n",
       "max              4.000000    3.838384e+07  545436.500000  300000.000000   \n",
       "\n",
       "        Loan_Period  Interest_Rate           EMI          Var1      Approved  \\\n",
       "count  42004.000000   22276.000000  22276.000000  69713.000000  69713.000000   \n",
       "mean       3.890629      19.213570   1101.466242      3.948446      0.014631   \n",
       "std        1.167491       5.847136    752.661394      3.819214      0.120073   \n",
       "min        1.000000      11.990000    118.000000      0.000000      0.000000   \n",
       "25%        3.000000      15.250000    649.000000      0.000000      0.000000   \n",
       "50%        4.000000      18.000000    941.000000      2.000000      0.000000   \n",
       "75%        5.000000      20.000000   1295.000000      7.000000      0.000000   \n",
       "max        6.000000      37.000000  13556.000000     10.000000      1.000000   \n",
       "\n",
       "           DOB_year       age_DOB  Days_since_lead_creation  \\\n",
       "count  69698.000000  69698.000000              69713.000000   \n",
       "mean    1988.614609     29.385391                174.253970   \n",
       "std       14.873144     14.873144                 75.625156   \n",
       "min     1968.000000    -49.000000                 41.000000   \n",
       "25%     1983.000000     28.000000                123.000000   \n",
       "50%     1987.000000     31.000000                155.000000   \n",
       "75%     1990.000000     35.000000                189.000000   \n",
       "max     2067.000000     50.000000                378.000000   \n",
       "\n",
       "       Primary_Bank_Type_G  Primary_Bank_Type_P   Contacted_N   Contacted_Y  \\\n",
       "count         69713.000000         69713.000000  69713.000000  69713.000000   \n",
       "mean              0.296975             0.568316      0.350552      0.649448   \n",
       "std               0.456929             0.495315      0.477146      0.477146   \n",
       "min               0.000000             0.000000      0.000000      0.000000   \n",
       "25%               0.000000             0.000000      0.000000      0.000000   \n",
       "50%               0.000000             1.000000      0.000000      1.000000   \n",
       "75%               1.000000             1.000000      1.000000      1.000000   \n",
       "max               1.000000             1.000000      1.000000      1.000000   \n",
       "\n",
       "       Source_Category_A  Source_Category_B  Source_Category_C  \\\n",
       "count       69713.000000       69713.000000       69713.000000   \n",
       "mean            0.000043           0.427639           0.163155   \n",
       "std             0.006560           0.494740           0.369509   \n",
       "min             0.000000           0.000000           0.000000   \n",
       "25%             0.000000           0.000000           0.000000   \n",
       "50%             0.000000           0.000000           0.000000   \n",
       "75%             0.000000           1.000000           0.000000   \n",
       "max             1.000000           1.000000           1.000000   \n",
       "\n",
       "       Source_Category_D      ...        Source_S138   Source_S139  \\\n",
       "count       69713.000000      ...       69713.000000  69713.000000   \n",
       "mean            0.007129      ...           0.000029      0.000029   \n",
       "std             0.084134      ...           0.005356      0.005356   \n",
       "min             0.000000      ...           0.000000      0.000000   \n",
       "25%             0.000000      ...           0.000000      0.000000   \n",
       "50%             0.000000      ...           0.000000      0.000000   \n",
       "75%             0.000000      ...           0.000000      0.000000   \n",
       "max             1.000000      ...           1.000000      1.000000   \n",
       "\n",
       "        Source_S141   Source_S143   Source_S144  Source_S150   Source_S151  \\\n",
       "count  69713.000000  69713.000000  69713.000000  69713.00000  69713.000000   \n",
       "mean       0.000660      0.049919      0.003486      0.00010      0.008162   \n",
       "std        0.025679      0.217779      0.058937      0.01002      0.089975   \n",
       "min        0.000000      0.000000      0.000000      0.00000      0.000000   \n",
       "25%        0.000000      0.000000      0.000000      0.00000      0.000000   \n",
       "50%        0.000000      0.000000      0.000000      0.00000      0.000000   \n",
       "75%        0.000000      0.000000      0.000000      0.00000      0.000000   \n",
       "max        1.000000      1.000000      1.000000      1.00000      1.000000   \n",
       "\n",
       "        Source_S153   Source_S155   Source_S156   Source_S157   Source_S158  \\\n",
       "count  69713.000000  69713.000000  69713.000000  69713.000000  69713.000000   \n",
       "mean       0.005781      0.000043      0.003586      0.007273      0.002396   \n",
       "std        0.075812      0.006560      0.059777      0.084970      0.048886   \n",
       "min        0.000000      0.000000      0.000000      0.000000      0.000000   \n",
       "25%        0.000000      0.000000      0.000000      0.000000      0.000000   \n",
       "50%        0.000000      0.000000      0.000000      0.000000      0.000000   \n",
       "75%        0.000000      0.000000      0.000000      0.000000      0.000000   \n",
       "max        1.000000      1.000000      1.000000      1.000000      1.000000   \n",
       "\n",
       "        Source_S159   Source_S161   Source_S162  Employer_Category1_A  \\\n",
       "count  69713.000000  69713.000000  69713.000000          69713.000000   \n",
       "mean       0.064177      0.008908      0.000445              0.478189   \n",
       "std        0.245070      0.093961      0.021083              0.499528   \n",
       "min        0.000000      0.000000      0.000000              0.000000   \n",
       "25%        0.000000      0.000000      0.000000              0.000000   \n",
       "50%        0.000000      0.000000      0.000000              0.000000   \n",
       "75%        0.000000      0.000000      0.000000              1.000000   \n",
       "max        1.000000      1.000000      1.000000              1.000000   \n",
       "\n",
       "       Employer_Category1_B  Employer_Category1_C  Gender_Female   Gender_Male  \n",
       "count          69713.000000          69713.000000   69713.000000  69713.000000  \n",
       "mean               0.259005              0.205170       0.426950      0.573050  \n",
       "std                0.438091              0.403829       0.494639      0.494639  \n",
       "min                0.000000              0.000000       0.000000      0.000000  \n",
       "25%                0.000000              0.000000       0.000000      0.000000  \n",
       "50%                0.000000              0.000000       0.000000      1.000000  \n",
       "75%                1.000000              0.000000       1.000000      1.000000  \n",
       "max                1.000000              1.000000       1.000000      1.000000  \n",
       "\n",
       "[8 rows x 111 columns]"
      ]
     },
     "execution_count": 7,
     "metadata": {},
     "output_type": "execute_result"
    }
   ],
   "source": [
    "desc = modeling_train.describe()\n",
    "desc"
   ]
  },
  {
   "cell_type": "code",
   "execution_count": 8,
   "metadata": {
    "collapsed": true
   },
   "outputs": [],
   "source": [
    "modeling_train.index = modeling_train[\"ID\"]\n",
    "modeling_train.drop([\"ID\"], axis = 1, inplace = True)"
   ]
  },
  {
   "cell_type": "code",
   "execution_count": 9,
   "metadata": {
    "collapsed": false
   },
   "outputs": [
    {
     "name": "stdout",
     "output_type": "stream",
     "text": [
      "Number of positive class:  1020\n",
      "Percentage of positive class:  1.46314173827 %\n"
     ]
    }
   ],
   "source": [
    "# Number of Approved before cutting down dataset size \n",
    "print(\"Number of positive class: \", sum(modeling_train[\"Approved\"]))\n",
    "print(\"Percentage of positive class: \", 100 * sum(modeling_train[\"Approved\"])/modeling_train.shape[0], \"%\")"
   ]
  },
  {
   "cell_type": "markdown",
   "metadata": {},
   "source": [
    "For missing values, we can \n",
    "1. Look for all complete \n",
    "2. Impute missing value indicator 999/ 99999 \n",
    "3. Impute mean (for linear regression) "
   ]
  },
  {
   "cell_type": "raw",
   "metadata": {},
   "source": [
    "df.apply(lambda x: x.fillna(x.mean()),axis=0)"
   ]
  },
  {
   "cell_type": "code",
   "execution_count": 10,
   "metadata": {
    "collapsed": true
   },
   "outputs": [],
   "source": [
    "fill_nas = modeling_train.apply(lambda x: x.mean(skipna=True), axis=0)"
   ]
  },
  {
   "cell_type": "code",
   "execution_count": 11,
   "metadata": {
    "collapsed": true
   },
   "outputs": [],
   "source": [
    "demo = modeling_train.apply(lambda x: x.fillna(x.mean()), axis=0)"
   ]
  },
  {
   "cell_type": "code",
   "execution_count": 12,
   "metadata": {
    "collapsed": false
   },
   "outputs": [
    {
     "name": "stdout",
     "output_type": "stream",
     "text": [
      "Number of positive in new set:  1020\n",
      "Percentage in positive set:  1.4631417382697631 %\n"
     ]
    }
   ],
   "source": [
    "print(\"Number of positive in new set: \", np.sum(demo[\"Approved\"])) \n",
    "print(\"Percentage in positive set: \", 100* np.sum(demo[\"Approved\"])/ demo.shape[0], \"%\")"
   ]
  },
  {
   "cell_type": "code",
   "execution_count": 13,
   "metadata": {
    "collapsed": false
   },
   "outputs": [
    {
     "data": {
      "text/plain": [
       "0.014631417382697631"
      ]
     },
     "execution_count": 13,
     "metadata": {},
     "output_type": "execute_result"
    }
   ],
   "source": [
    "np.sum(demo[\"Approved\"])/modeling_train.shape[0]"
   ]
  },
  {
   "cell_type": "markdown",
   "metadata": {},
   "source": [
    "## Start ML Process"
   ]
  },
  {
   "cell_type": "code",
   "execution_count": 14,
   "metadata": {
    "collapsed": false
   },
   "outputs": [],
   "source": [
    "X = demo.drop([\"Approved\"], axis = 1)\n",
    "Y = demo[\"Approved\"]"
   ]
  },
  {
   "cell_type": "code",
   "execution_count": 15,
   "metadata": {
    "collapsed": true
   },
   "outputs": [],
   "source": [
    "from sklearn.model_selection import train_test_split"
   ]
  },
  {
   "cell_type": "code",
   "execution_count": 16,
   "metadata": {
    "collapsed": true
   },
   "outputs": [],
   "source": [
    "X_train, X_test, Y_train, Y_test = train_test_split(X, Y, test_size = 0.25, random_state = 1234) # , shuffle = True)"
   ]
  },
  {
   "cell_type": "code",
   "execution_count": 17,
   "metadata": {
    "collapsed": true
   },
   "outputs": [],
   "source": [
    "from sklearn.metrics import roc_auc_score\n",
    "from sklearn.metrics import confusion_matrix\n",
    "from sklearn.metrics import accuracy_score"
   ]
  },
  {
   "cell_type": "code",
   "execution_count": 18,
   "metadata": {
    "collapsed": false
   },
   "outputs": [],
   "source": [
    "def log_metrics(true_y, scores):\n",
    "    train_roc = roc_auc_score(true_y, scores)\n",
    "    train_acc =  accuracy_score(true_y, scores)\n",
    "    \n",
    "    print(\"--- Confusion Matrix ---\")\n",
    "    print(confusion_matrix(true_y, scores))\n",
    "    print(\"Train ROC: \", train_roc) \n",
    "    print(\"Accuracy: \", 100*train_acc,\"%\")"
   ]
  },
  {
   "cell_type": "markdown",
   "metadata": {},
   "source": [
    "### Search Gradient Boosted Trees"
   ]
  },
  {
   "cell_type": "code",
   "execution_count": 19,
   "metadata": {
    "collapsed": false
   },
   "outputs": [],
   "source": [
    "from sklearn.ensemble import GradientBoostingClassifier\n",
    "from sklearn.model_selection import RandomizedSearchCV, GridSearchCV"
   ]
  },
  {
   "cell_type": "code",
   "execution_count": 20,
   "metadata": {
    "collapsed": true
   },
   "outputs": [],
   "source": [
    "np.random.seed(1234)\n",
    "param_dist = {\"n_estimators\": [50, 100, 200], \n",
    "              \"learning_rate\": [0.001, 0.01, 0.1],\n",
    "              \"max_depth\": [3, 6, 9, None],\n",
    "              \"max_features\": [\"auto\", None, 3, 7, 12]\n",
    "              }\n",
    "n_iter_search = 20"
   ]
  },
  {
   "cell_type": "code",
   "execution_count": null,
   "metadata": {
    "collapsed": false
   },
   "outputs": [],
   "source": [
    "gbm_random_search = RandomizedSearchCV(GradientBoostingClassifier(verbose = 1), param_distributions=param_dist,\n",
    "                                   n_iter=n_iter_search, cv = 3, n_jobs = 3)"
   ]
  },
  {
   "cell_type": "code",
   "execution_count": null,
   "metadata": {
    "collapsed": false,
    "scrolled": true
   },
   "outputs": [],
   "source": [
    "gbm_random_search.fit(X, Y)"
   ]
  },
  {
   "cell_type": "code",
   "execution_count": null,
   "metadata": {
    "collapsed": false
   },
   "outputs": [],
   "source": [
    "gbm_random_search.cv_results_.keys()"
   ]
  },
  {
   "cell_type": "code",
   "execution_count": null,
   "metadata": {
    "collapsed": true
   },
   "outputs": [],
   "source": [
    "wanted_grid_params = [\"mean_train_score\" ,\"mean_test_score\", \"param_n_estimators\", \"param_learning_rate\"\n",
    "                      \"param_max_depth\", \"param_max_features\", \"rank_test_score\"]"
   ]
  },
  {
   "cell_type": "code",
   "execution_count": null,
   "metadata": {
    "collapsed": true
   },
   "outputs": [],
   "source": [
    "dict_temp = {x:gbm_random_search.cv_results_[x] for x in wanted_grid_params}\n",
    "search_results = pd.DataFrame(dict_temp)\n",
    "search_results[\"test_train_pct_diff\"] = (search_results.mean_train_score - search_results.mean_test_score)/ search_results.mean_test_score\n",
    "search_results[search_results.test_train_pct_diff < 0.10]\\\n",
    ".sort_values(by=[\"mean_test_score\"], ascending = False).head(15)"
   ]
  },
  {
   "cell_type": "markdown",
   "metadata": {},
   "source": [
    "*look through the grid to find the best gradient boosted classifier * "
   ]
  },
  {
   "cell_type": "code",
   "execution_count": null,
   "metadata": {
    "collapsed": true
   },
   "outputs": [],
   "source": [
    "from sklearn.utils.class_weight import compute_sample_weight"
   ]
  },
  {
   "cell_type": "code",
   "execution_count": null,
   "metadata": {
    "collapsed": true
   },
   "outputs": [],
   "source": [
    "weights_full = compute_sample_weight({1:75, 0:1}, Y)"
   ]
  },
  {
   "cell_type": "code",
   "execution_count": null,
   "metadata": {
    "collapsed": true
   },
   "outputs": [],
   "source": [
    "weights = compute_sample_weight({1:75, 0:1}, Y_train)"
   ]
  },
  {
   "cell_type": "code",
   "execution_count": null,
   "metadata": {
    "collapsed": false
   },
   "outputs": [],
   "source": [
    "# Refit best gbm model \n",
    "gbm_better = GradientBoostingClassifier(n_estimators = 50, learning_rate =  0.01, max_depth = 4, verbose = 1, warm_start=True)\n",
    "gbm_better.fit(X_train,Y_train, sample_weight=weights)"
   ]
  },
  {
   "cell_type": "code",
   "execution_count": null,
   "metadata": {
    "collapsed": true
   },
   "outputs": [],
   "source": [
    "gbm_train_scores = gbm_better.predict(X_train)\n",
    "gbm_test_scores = gbm_better.predict(X_test)"
   ]
  },
  {
   "cell_type": "code",
   "execution_count": null,
   "metadata": {
    "collapsed": false
   },
   "outputs": [],
   "source": [
    "log_metrics(Y_train, gbm_train_scores)\n",
    "log_metrics(Y_test, gbm_test_scores)"
   ]
  },
  {
   "cell_type": "code",
   "execution_count": null,
   "metadata": {
    "collapsed": true
   },
   "outputs": [],
   "source": []
  },
  {
   "cell_type": "code",
   "execution_count": null,
   "metadata": {
    "collapsed": false
   },
   "outputs": [],
   "source": [
    "gbm_best = GradientBoostingClassifier(n_estimators = 50, learning_rate =  0.01, max_depth = 4, verbose = 1, warm_start=True)\n",
    "gbm_final_model = gbm_best.fit(X,Y, weights_full)"
   ]
  },
  {
   "cell_type": "markdown",
   "metadata": {
    "collapsed": true
   },
   "source": [
    "### Start Submission Steps "
   ]
  },
  {
   "cell_type": "code",
   "execution_count": null,
   "metadata": {
    "collapsed": true
   },
   "outputs": [],
   "source": [
    "test_data = pd.read_csv(\"Test_Modeling_Dataset.csv\")"
   ]
  },
  {
   "cell_type": "code",
   "execution_count": null,
   "metadata": {
    "collapsed": false
   },
   "outputs": [],
   "source": [
    "test_data.head()"
   ]
  },
  {
   "cell_type": "code",
   "execution_count": null,
   "metadata": {
    "collapsed": true
   },
   "outputs": [],
   "source": [
    "test_data.index = test_data[\"ID\"]\n",
    "test_data.drop([\"ID\"], axis = 1, inplace= True)"
   ]
  },
  {
   "cell_type": "code",
   "execution_count": null,
   "metadata": {
    "collapsed": false,
    "scrolled": true
   },
   "outputs": [],
   "source": [
    "# Fill NA's with previous set's values \n",
    "test_data = test_data.fillna(fill_nas, axis = 0, inplace=True)"
   ]
  },
  {
   "cell_type": "code",
   "execution_count": null,
   "metadata": {
    "collapsed": false
   },
   "outputs": [],
   "source": [
    "test_data.describe()"
   ]
  },
  {
   "cell_type": "code",
   "execution_count": null,
   "metadata": {
    "collapsed": true
   },
   "outputs": [],
   "source": [
    "sample_submission = pd.read_csv(\"Sample_Solution_Yrq0zGh.csv\")"
   ]
  },
  {
   "cell_type": "code",
   "execution_count": null,
   "metadata": {
    "collapsed": false
   },
   "outputs": [],
   "source": [
    "sample_submission.head()"
   ]
  },
  {
   "cell_type": "markdown",
   "metadata": {},
   "source": [
    "### GBM Scores "
   ]
  },
  {
   "cell_type": "code",
   "execution_count": null,
   "metadata": {
    "collapsed": false
   },
   "outputs": [],
   "source": [
    "gbm_sub_scr = gbm_final_model.predict(test_data)\n",
    "submission_file = pd.DataFrame({\"ID\":test_data.index, \"Approved\": gbm_sub_scr})\n",
    "submission_file.to_csv(\"GBM_Predictionssklearn .csv\", index=False)"
   ]
  }
 ],
 "metadata": {
  "anaconda-cloud": {},
  "kernelspec": {
   "display_name": "Python [Root]",
   "language": "python",
   "name": "Python [Root]"
  },
  "language_info": {
   "codemirror_mode": {
    "name": "ipython",
    "version": 3
   },
   "file_extension": ".py",
   "mimetype": "text/x-python",
   "name": "python",
   "nbconvert_exporter": "python",
   "pygments_lexer": "ipython3",
   "version": "3.5.2"
  }
 },
 "nbformat": 4,
 "nbformat_minor": 0
}
